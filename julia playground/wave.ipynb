{
 "cells": [
  {
   "cell_type": "code",
   "execution_count": 1,
   "metadata": {},
   "outputs": [
    {
     "data": {
      "text/plain": [
       "Plots.GRBackend()"
      ]
     },
     "metadata": {},
     "output_type": "display_data"
    }
   ],
   "source": [
    "using LinearAlgebra\n",
    "using SparseArrays\n",
    "using Plots\n",
    "using DifferentialEquations\n",
    "using BenchmarkTools\n",
    "using StaticArrays\n",
    "gr()"
   ]
  },
  {
   "cell_type": "code",
   "execution_count": 2,
   "metadata": {},
   "outputs": [
    {
     "data": {
      "text/plain": [
       "Float64"
      ]
     },
     "metadata": {},
     "output_type": "display_data"
    }
   ],
   "source": [
    "# Nx = 200\n",
    "# Ny = 100\n",
    "LeftX = 0\n",
    "LeftY = 0\n",
    "RightX = 10\n",
    "RightY = 5\n",
    "Lx = RightX-LeftX\n",
    "Ly = RightY-LeftY\n",
    "# hx = (RightX - LeftX)/Nx \n",
    "# hy = (RightY - LeftY)/Ny \n",
    "tStart = 0\n",
    "tEnd = 4\n",
    "FT = Float64"
   ]
  },
  {
   "cell_type": "code",
   "execution_count": 3,
   "metadata": {},
   "outputs": [
    {
     "data": {
      "text/plain": [
       "create2DLFVM (generic function with 1 method)"
      ]
     },
     "metadata": {},
     "output_type": "display_data"
    }
   ],
   "source": [
    "function coeffK(x, y, RightX, RightY)\n",
    "    result = zeros(size(x))\n",
    "    line_x = findall(x.<(RightX/2))[end][2]\n",
    "    line_y = findall(y.<(RightY/2))[end][1]\n",
    "    result[1:line_y, 1:line_x] .= 0.1\n",
    "    result[line_y+1:end, 1:line_x] .= 0.4\n",
    "    result[line_y+1:end, line_x+1:end] .= 0.7\n",
    "    result[1:line_y, line_x+1:end] .= 1.0\n",
    "    return result\n",
    "end\n",
    "\n",
    "function create2DLFVM(Nx, Ny, hx, hy, coeffFun, LeftX, LeftY, RightX, RightY)\n",
    "    x_points = [j for j in LeftX:hx:RightX][2:end-1]\n",
    "    y_points = [i for i in LeftY:hy:RightY][2:end-1]\n",
    "    x = zeros((Ny-1, Nx-1))\n",
    "    y = zeros((Ny-1, Nx-1))\n",
    "\n",
    "    for j in 1:length(y_points)\n",
    "        x[j, :] = x_points\n",
    "    end\n",
    "\n",
    "    for i in 1:length(x_points)\n",
    "        y[:, i] = y_points\n",
    "    end\n",
    "\n",
    "    main_arr = ((1 / (hx * hx)) .* (coeffFun(x .- 0.5 * hx, y, RightX, RightY) .+ coeffFun(x .+ 0.5 * hx, y, RightX, RightY)) .+ (1 / (hy * hy)) .* (coeffFun(x, y .- 0.5 * hy, RightX, RightY) .+ coeffFun(x, y .+ 0.5 * hy, RightX, RightY)))\n",
    "    main_arr = vec(main_arr')\n",
    "    k3_arr = -(coeffFun(x, y .+ 0.5 * hy, RightX, RightY)) ./ (hy * hy)\n",
    "    k3_arr = vec(k3_arr')\n",
    "    k3_arr = k3_arr[1:(end - Nx + 1)]\n",
    "    k1_arr = -(coeffFun(x .+ 0.5 * hx, y, RightX, RightY)) ./ (hx * hx)\n",
    "    k1_arr[:, end] .= 0\n",
    "    k1_arr = vec(k1_arr')\n",
    "    k1_arr = k1_arr[1:(end - 1)]\n",
    "    A = SparseArrays.spdiagm(0 => main_arr, -1 => k1_arr, 1 => k1_arr, (-Nx+1) => k3_arr, (Nx-1) => k3_arr)\n",
    "    return A\n",
    "end\n",
    "\n",
    "# @code_warntype create2DLFVM(Nx, Ny, hx, hy, coeffK, LeftX, LeftY, RightX, RightY)\n",
    "# @code_warntype coeffK(zeros((Ny-1, Nx-1)), zeros((Ny-1, Nx-1)), RightX, RightY)"
   ]
  },
  {
   "cell_type": "code",
   "execution_count": 4,
   "metadata": {},
   "outputs": [
    {
     "data": {
      "text/plain": [
       "sourcefunc (generic function with 1 method)"
      ]
     },
     "metadata": {},
     "output_type": "display_data"
    }
   ],
   "source": [
    "function grid(Nx, Ny, Lx, Ly)\n",
    "    points = Vector{SVector{2, Float64}}(undef, (Nx-1) * (Ny-1))\n",
    "    index = 1\n",
    "    for j in 1:(Ny-1)\n",
    "        for i in 1:(Nx-1)\n",
    "            points[index] = @SVector [i * Lx / Nx, j * Ly / Ny]\n",
    "            index += 1\n",
    "        end\n",
    "    end\n",
    "    return points\n",
    "end\n",
    "# @code_warntype grid(Nx, Ny, Lx, Ly)\n",
    "# @btime grid(Nx, Ny, Lx, Ly)\n",
    "\n",
    "function sourcefunc(points, t::FT, RightX, RightY)\n",
    "    f_values = similar(points, Float64)  # Preallocate array for f values\n",
    "\n",
    "    for (i, point) in enumerate(points)\n",
    "        x, y = point[1], point[2]\n",
    "        f_values[i] = sin(4*π*t) * (exp(-40.0 * (x - 0.25 * RightX)^2 - 40.0 * (y - 0.25 * RightY)^2) +\n",
    "                                     exp(-40.0 * (x - 0.25 * RightX)^2 - 40.0 * (y - 0.75 * RightY)^2) +\n",
    "                                     exp(-40.0 * (x - 0.75 * RightX)^2 - 40.0 * (y - 0.75 * RightY)^2) +\n",
    "                                     exp(-40.0 * (x - 0.75 * RightX)^2 - 40.0 * (y - 0.25 * RightY)^2))\n",
    "    end\n",
    "\n",
    "    return f_values\n",
    "end\n",
    "\n",
    "# @code_warntype sourcefunc(points, 1.0, RightX, RightY)\n",
    "# @btime sourcefunc(points, 1.0, RightX, RightY)"
   ]
  },
  {
   "cell_type": "code",
   "execution_count": 5,
   "metadata": {},
   "outputs": [],
   "source": [
    "# function RHS!(ddu, du, u, p, t)\n",
    "#     A, sourcefunc, points, RightX, RightY = p\n",
    "#     fLX = sourcefunc(points, t, RightX, RightY)\n",
    "#     ddu .= -A*u .+ fLX\n",
    "# end\n",
    "\n",
    "# # @btime create2DLFVM(Nx, hx, hy, coeffK)\n",
    "# # @code_warntype create2DLFVM(Nx, hx, hy, coeffK)\n",
    "# A = create2DLFVM(Nx, Ny, hx, hy, coeffK, LeftX, LeftY, RightX, RightY)\n",
    "# u0 = zeros((Nx-1)*(Ny-1), 1)\n",
    "# du0 = u0\n",
    "# tspan = (tStart, tEnd)\n",
    "# points = grid(Nx, Ny, Lx, Ly)\n",
    "# p = (; A, sourcefunc, points, RightX, RightY)\n",
    "\n",
    "# problem = SecondOrderODEProblem(RHS!, du0, u0, tspan, p)\n",
    "# solution = solve(problem, Midpoint())\n",
    "# # @btime solve(problem, Tsit5())\n",
    "# # @code_warntype solve(problem, Tsit5())"
   ]
  },
  {
   "cell_type": "code",
   "execution_count": 6,
   "metadata": {},
   "outputs": [],
   "source": [
    "# # duEnd = solutions[1:((Nx-1)*(Ny-1))]\n",
    "# uEnd = solution.u[end][((Nx-1)*(Ny-1)+1):end]\n",
    "# @btime solution.u[end][((Nx-1)*(Ny-1)+1):end]\n",
    "\n",
    "# # duEnd1 = reshape(duEnd, Nx-1, Ny-1)'\n",
    "# uEnd1 = reshape(uEnd, Nx-1, Ny-1)\n",
    "# @btime reshape(uEnd, Nx-1, Ny-1)"
   ]
  },
  {
   "cell_type": "code",
   "execution_count": 7,
   "metadata": {},
   "outputs": [],
   "source": [
    "# t_values = solution.t\n",
    "\n",
    "# animation = @animate for i in 1:length(t_values)\n",
    "#     u_k = solution.u[i][((Nx-1)*(Ny-1)+1):end]\n",
    "#     u_k1 = reshape(u_k, Nx-1, Ny-1)\n",
    "#     heatmap(u_k1', c=:blues, aspect_ratio=:equal, xlabel=\"X\", ylabel=\"Y\", title=\"Time: $(t_values[i])\")\n",
    "# end\n",
    "\n",
    "# gif(animation, \"animation.gif\", fps = 10)\n",
    "# # display(animation)"
   ]
  },
  {
   "cell_type": "code",
   "execution_count": 8,
   "metadata": {},
   "outputs": [],
   "source": [
    "# solvers = [Tsit5(), Vern7(), Midpoint()]\n",
    "# results = Dict()\n",
    "\n",
    "# for solver in solvers\n",
    "#     @info \"Benchmarking solver: $solver\"\n",
    "#     result = @btime solve($problem, $solver, save_everystep = false)\n",
    "#     results[solver] = result\n",
    "# end\n",
    "\n",
    "# # Step 4: Collect Results\n",
    "\n",
    "# # Step 5: Plotting\n",
    "# plot()\n",
    "# for (solver, result) in results\n",
    "#     plot!(result, label=string(solver))\n",
    "# end\n",
    "# display(plot!)"
   ]
  },
  {
   "cell_type": "code",
   "execution_count": 9,
   "metadata": {},
   "outputs": [
    {
     "data": {
      "text/plain": [
       "3-element Vector{OrdinaryDiffEq.OrdinaryDiffEqAdaptiveAlgorithm}:\n",
       " Tsit5(stage_limiter! = trivial_limiter!, step_limiter! = trivial_limiter!, thread = static(false))\n",
       " RK4()\n",
       " Midpoint()"
      ]
     },
     "metadata": {},
     "output_type": "display_data"
    }
   ],
   "source": [
    "function RHS!(ddu, du, u, p, t)\n",
    "    A, sourcefunc, points, RightX, RightY = p\n",
    "    fLX = sourcefunc(points, t, RightX, RightY)\n",
    "    ddu .= -A*u .+ fLX\n",
    "end\n",
    "\n",
    "function run_simulation(Nx, Ny, tspan, coeffK, LeftX, LeftY, RightX, RightY, solver)\n",
    "    Lx = RightX - LeftX\n",
    "    Ly = RightY - LeftY\n",
    "    hx = Lx/Nx\n",
    "    hy = Ly/Ny\n",
    "\n",
    "    A = create2DLFVM(Nx, Ny, hx, hy, coeffK, LeftX, LeftY, RightX, RightY)\n",
    "    u0 = zeros((Nx-1)*(Ny-1), 1)\n",
    "    du0 = u0\n",
    "    points = grid(Nx, Ny, Lx, Ly)\n",
    "    p = (; A, sourcefunc, points, RightX, RightY)\n",
    "\n",
    "    problem = SecondOrderODEProblem(RHS!, du0, u0, tspan, p)\n",
    "    solution = solve(problem, solver)\n",
    "    \n",
    "    return solution\n",
    "end\n",
    "\n",
    "tspan = (tStart, tEnd)\n",
    "sizes = [(200, 100), (100, 50)]\n",
    "solvers = [Tsit5(), RK4(), Midpoint()]\n",
    "\n"
   ]
  },
  {
   "cell_type": "code",
   "execution_count": 10,
   "metadata": {},
   "outputs": [],
   "source": [
    "# for (Nx, Ny) in sizes\n",
    "#     for solver in solvers\n",
    "#         @info \"Running simulation for Nx=$Nx, Ny=$Ny, solver=$solver\"\n",
    "#         try\n",
    "#             @btime run_simulation($Nx, $Ny, $tspan, $coeffK, $LeftX, $LeftY, $RightX, $RightY, $solver)\n",
    "#         catch e\n",
    "#             @warn \"Simulation failed for Nx=$Nx, Ny=$Ny, solver=$solver. Error: $e\"\n",
    "#         end\n",
    "#     end\n",
    "# end"
   ]
  },
  {
   "cell_type": "code",
   "execution_count": 11,
   "metadata": {},
   "outputs": [
    {
     "data": {
      "text/plain": [
       "makeTable (generic function with 1 method)"
      ]
     },
     "metadata": {},
     "output_type": "display_data"
    }
   ],
   "source": [
    "function makeTable(benchmark::BenchmarkTools.Trial, Nx, Ny, solver)\n",
    "    str = replace(string(solver), r\"\\([^)]*\\)\" => \"\")\n",
    "    \n",
    "    df = DataFrame(Algorithm = str)\n",
    "    df.Nx .= Nx\n",
    "    df.Ny .= Ny\n",
    "    # df.Algorithm .= string(Tsit5())\n",
    "    df.gctimes .= median(benchmark.gctimes)\n",
    "    df.time .= median(benchmark.times)\n",
    "    df.memory .= median(benchmark.memory)\n",
    "    df.allocs .= median(benchmark.allocs)\n",
    "\n",
    "    return df\n",
    "end"
   ]
  },
  {
   "cell_type": "code",
   "execution_count": 16,
   "metadata": {},
   "outputs": [
    {
     "name": "stderr",
     "output_type": "stream",
     "text": [
      "┌ Info: Running simulation for Nx=200, Ny=100, solver=Tsit5(stage_limiter! = trivial_limiter!, step_limiter! = trivial_limiter!, thread = static(false))\n",
      "└ @ Main c:\\Users\\Admin\\Desktop\\Pattern-formation-in-sediment-transport-in-rivers\\julia playground\\wave.ipynb:6\n"
     ]
    },
    {
     "name": "stderr",
     "output_type": "stream",
     "text": [
      "┌ Info: Time estimate: 1.120871e9 seconds, Memory estimate: 1673986688 bytes\n",
      "└ @ Main c:\\Users\\Admin\\Desktop\\Pattern-formation-in-sediment-transport-in-rivers\\julia playground\\wave.ipynb:12\n",
      "┌ Info: Running simulation for Nx=200, Ny=100, solver=RK4()\n",
      "└ @ Main c:\\Users\\Admin\\Desktop\\Pattern-formation-in-sediment-transport-in-rivers\\julia playground\\wave.ipynb:6\n"
     ]
    },
    {
     "name": "stderr",
     "output_type": "stream",
     "text": [
      "┌ Info: Time estimate: 1.1426136e9 seconds, Memory estimate: 1712768336 bytes\n",
      "└ @ Main c:\\Users\\Admin\\Desktop\\Pattern-formation-in-sediment-transport-in-rivers\\julia playground\\wave.ipynb:12\n"
     ]
    },
    {
     "name": "stderr",
     "output_type": "stream",
     "text": [
      "┌ Info: Running simulation for Nx=200, Ny=100, solver=Midpoint()\n",
      "└ @ Main c:\\Users\\Admin\\Desktop\\Pattern-formation-in-sediment-transport-in-rivers\\julia playground\\wave.ipynb:6\n",
      "┌ Info: Time estimate: 5.178525e9 seconds, Memory estimate: 5466679456 bytes\n",
      "└ @ Main c:\\Users\\Admin\\Desktop\\Pattern-formation-in-sediment-transport-in-rivers\\julia playground\\wave.ipynb:12\n"
     ]
    },
    {
     "name": "stderr",
     "output_type": "stream",
     "text": [
      "┌ Info: Running simulation for Nx=100, Ny=50, solver=Tsit5(stage_limiter! = trivial_limiter!, step_limiter! = trivial_limiter!, thread = static(false))\n",
      "└ @ Main c:\\Users\\Admin\\Desktop\\Pattern-formation-in-sediment-transport-in-rivers\\julia playground\\wave.ipynb:6\n",
      "┌ Info: Time estimate: 1.656605e8 seconds, Memory estimate: 202048400 bytes\n",
      "└ @ Main c:\\Users\\Admin\\Desktop\\Pattern-formation-in-sediment-transport-in-rivers\\julia playground\\wave.ipynb:12\n",
      "┌ Info: Running simulation for Nx=100, Ny=50, solver=RK4()\n",
      "└ @ Main c:\\Users\\Admin\\Desktop\\Pattern-formation-in-sediment-transport-in-rivers\\julia playground\\wave.ipynb:6\n"
     ]
    },
    {
     "name": "stderr",
     "output_type": "stream",
     "text": [
      "┌ Info: Time estimate: 3.393418e8 seconds, Memory estimate: 407899712 bytes\n",
      "└ @ Main c:\\Users\\Admin\\Desktop\\Pattern-formation-in-sediment-transport-in-rivers\\julia playground\\wave.ipynb:12\n",
      "┌ Info: Running simulation for Nx=100, Ny=50, solver=Midpoint()\n",
      "└ @ Main c:\\Users\\Admin\\Desktop\\Pattern-formation-in-sediment-transport-in-rivers\\julia playground\\wave.ipynb:6\n"
     ]
    },
    {
     "name": "stderr",
     "output_type": "stream",
     "text": [
      "┌ Info: Time estimate: 1.1226305e9 seconds, Memory estimate: 1280907232 bytes\n",
      "└ @ Main c:\\Users\\Admin\\Desktop\\Pattern-formation-in-sediment-transport-in-rivers\\julia playground\\wave.ipynb:12\n"
     ]
    }
   ],
   "source": [
    "benchmark_results = Dict()\n",
    "# combined_df = DataFrame()\n",
    "\n",
    "for (Nx, Ny) in sizes\n",
    "    for solver in solvers\n",
    "        @info \"Running simulation for Nx=$Nx, Ny=$Ny, solver=$solver\"\n",
    "        try\n",
    "            benchmark = @benchmark run_simulation($Nx, $Ny, $tspan, $coeffK, $LeftX, $LeftY, $RightX, $RightY, $solver)\n",
    "            benchmark_results[(Nx, Ny, solver)] = benchmark\n",
    "            # df = makeTable(benchmark, Nx, Ny, solver)\n",
    "            # append!(combined_df, df)\n",
    "            @info \"Time estimate: $(minimum(benchmark).time) seconds, Memory estimate: $(minimum(benchmark).memory) bytes\"\n",
    "        catch e\n",
    "            @warn \"Simulation failed for Nx=$Nx, Ny=$Ny, solver=$solver. Error: $e\"\n",
    "        end\n",
    "    end\n",
    "end"
   ]
  },
  {
   "cell_type": "code",
   "execution_count": 13,
   "metadata": {},
   "outputs": [
    {
     "ename": "UndefVarError",
     "evalue": "UndefVarError: `combined_df` not defined",
     "output_type": "error",
     "traceback": [
      "UndefVarError: `combined_df` not defined\n"
     ]
    }
   ],
   "source": [
    "combined_df "
   ]
  },
  {
   "cell_type": "code",
   "execution_count": 18,
   "metadata": {},
   "outputs": [
    {
     "data": {
      "text/plain": [
       "BenchmarkTools.Trial: 17 samples with 1 evaluation.\n",
       " Range \u001b[90m(\u001b[39m\u001b[36m\u001b[1mmin\u001b[22m\u001b[39m … \u001b[35mmax\u001b[39m\u001b[90m):  \u001b[39m\u001b[36m\u001b[1m165.661 ms\u001b[22m\u001b[39m … \u001b[35m526.742 ms\u001b[39m  \u001b[90m┊\u001b[39m GC \u001b[90m(\u001b[39mmin … max\u001b[90m): \u001b[39m 5.11% … 17.17%\n",
       " Time  \u001b[90m(\u001b[39m\u001b[34m\u001b[1mmedian\u001b[22m\u001b[39m\u001b[90m):     \u001b[39m\u001b[34m\u001b[1m257.595 ms               \u001b[22m\u001b[39m\u001b[90m┊\u001b[39m GC \u001b[90m(\u001b[39mmedian\u001b[90m):    \u001b[39m11.38%\n",
       " Time  \u001b[90m(\u001b[39m\u001b[32m\u001b[1mmean\u001b[22m\u001b[39m ± \u001b[32mσ\u001b[39m\u001b[90m):   \u001b[39m\u001b[32m\u001b[1m296.408 ms\u001b[22m\u001b[39m ± \u001b[32m108.484 ms\u001b[39m  \u001b[90m┊\u001b[39m GC \u001b[90m(\u001b[39mmean ± σ\u001b[90m):  \u001b[39m12.98% ±  4.23%\n",
       "\n",
       "  \u001b[39m▁\u001b[39m▁\u001b[39m \u001b[39m▁\u001b[39m \u001b[39m \u001b[39m▁\u001b[39m \u001b[39m \u001b[39m \u001b[39m \u001b[39m█\u001b[39m▁\u001b[39m▁\u001b[34m \u001b[39m\u001b[39m▁\u001b[39m \u001b[39m \u001b[39m \u001b[39m \u001b[39m \u001b[39m \u001b[32m \u001b[39m\u001b[39m \u001b[39m \u001b[39m▁\u001b[39m \u001b[39m▁\u001b[39m▁\u001b[39m \u001b[39m█\u001b[39m \u001b[39m \u001b[39m \u001b[39m \u001b[39m \u001b[39m \u001b[39m▁\u001b[39m \u001b[39m \u001b[39m \u001b[39m \u001b[39m \u001b[39m \u001b[39m \u001b[39m \u001b[39m \u001b[39m \u001b[39m \u001b[39m \u001b[39m \u001b[39m \u001b[39m \u001b[39m \u001b[39m \u001b[39m \u001b[39m \u001b[39m \u001b[39m \u001b[39m \u001b[39m█\u001b[39m \u001b[39m \n",
       "  \u001b[39m█\u001b[39m█\u001b[39m▁\u001b[39m█\u001b[39m▁\u001b[39m▁\u001b[39m█\u001b[39m▁\u001b[39m▁\u001b[39m▁\u001b[39m▁\u001b[39m█\u001b[39m█\u001b[39m█\u001b[34m▁\u001b[39m\u001b[39m█\u001b[39m▁\u001b[39m▁\u001b[39m▁\u001b[39m▁\u001b[39m▁\u001b[39m▁\u001b[32m▁\u001b[39m\u001b[39m▁\u001b[39m▁\u001b[39m█\u001b[39m▁\u001b[39m█\u001b[39m█\u001b[39m▁\u001b[39m█\u001b[39m▁\u001b[39m▁\u001b[39m▁\u001b[39m▁\u001b[39m▁\u001b[39m▁\u001b[39m█\u001b[39m▁\u001b[39m▁\u001b[39m▁\u001b[39m▁\u001b[39m▁\u001b[39m▁\u001b[39m▁\u001b[39m▁\u001b[39m▁\u001b[39m▁\u001b[39m▁\u001b[39m▁\u001b[39m▁\u001b[39m▁\u001b[39m▁\u001b[39m▁\u001b[39m▁\u001b[39m▁\u001b[39m▁\u001b[39m▁\u001b[39m▁\u001b[39m▁\u001b[39m█\u001b[39m \u001b[39m▁\n",
       "  166 ms\u001b[90m           Histogram: frequency by time\u001b[39m          527 ms \u001b[0m\u001b[1m<\u001b[22m\n",
       "\n",
       " Memory estimate\u001b[90m: \u001b[39m\u001b[33m192.69 MiB\u001b[39m, allocs estimate\u001b[90m: \u001b[39m\u001b[33m6806\u001b[39m."
      ]
     },
     "metadata": {},
     "output_type": "display_data"
    }
   ],
   "source": [
    "benchmark_results[(100, 50, Tsit5())]"
   ]
  }
 ],
 "metadata": {
  "kernelspec": {
   "display_name": "Julia 1.9.3",
   "language": "julia",
   "name": "julia-1.9"
  },
  "language_info": {
   "file_extension": ".jl",
   "mimetype": "application/julia",
   "name": "julia",
   "version": "1.9.3"
  }
 },
 "nbformat": 4,
 "nbformat_minor": 2
}
